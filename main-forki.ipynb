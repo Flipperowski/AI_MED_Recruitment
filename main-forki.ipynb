{
 "cells": [
  {
   "cell_type": "markdown",
   "metadata": {},
   "source": [
    "# Heart Classification with Hypertrophic Cardiomyopathy\n",
    "\n",
    "This notebook demonstrates a **K-Nearest Neighbors (KNN) classifier** applied to classify cardiomegaly based on heart and lung features. We include **data preprocessing**, **hyperparameter tuning**, **cross-validation**, and **model evaluation metrics**."
   ]
  },
  {
   "cell_type": "markdown",
   "metadata": {},
   "source": [
    "## 1. Importing libraries"
   ]
  },
  {
   "cell_type": "code",
   "metadata": {},
   "source": [
    "import pandas as pd\n",
    "import numpy as np\n",
    "import matplotlib.pyplot as plt\n",
    "import seaborn as sns\n",
    "\n",
    "from sklearn.model_selection import train_test_split, GridSearchCV, cross_val_score, RepeatedStratifiedKFold\n",
    "from sklearn.preprocessing import StandardScaler\n",
    "from sklearn.pipeline import Pipeline\n",
    "\n",
    "# Classification models\n",
    "from sklearn.neighbors import KNeighborsClassifier\n",
    "\n",
    "# Evaluation metrics\n",
    "from sklearn.metrics import accuracy_score, f1_score, roc_auc_score, confusion_matrix, classification_report"
   ]
  },
  {
   "cell_type": "markdown",
   "metadata": {},
   "source": [
    "## 2. Load and preprocess data"
   ]
  },
  {
   "cell_type": "code",
   "metadata": {},
   "source": [
    "# Load CSV file\n",
    "data = pd.read_csv(\"task_data.csv\")\n",
    "data.columns = data.columns.str.strip()  # Remove whitespace from column names\n",
    "\n",
    "numeric_cols = [\n",
    "    \"Heart width\", \"Lung width\", \"CTR - Cardiothoracic Ratio\", \"xx\", \"yy\", \"xy\", \"normalized_diff\",\n",
    "    \"Inscribed circle radius\", \"Polygon Area Ratio\", \"Heart perimeter\", \"Heart area\", \"Lung area\"\n",
    "]\n",
    "\n",
    "# Convert numeric columns to float\n",
    "for col in numeric_cols:\n",
    "    data[col] = data[col].astype(str).str.replace(\",\", \".\", regex=True).astype(float)\n",
    "\n",
    "# Define features and target\n",
    "X = data[numeric_cols]\n",
    "y = data[\"Cardiomegaly\"]"
   ]
  },
  {
   "cell_type": "markdown",
   "metadata": {},
   "source": [
    "## 3. Split dataset"
   ]
  },
  {
   "cell_type": "code",
   "metadata": {},
   "source": [
    "# Split into train and test sets\n",
    "X_train, X_test, y_train, y_test = train_test_split(X, y, test_size=0.2, random_state=42)\n",
    "\n",
    "# Apply standard scaling\n",
    "scaler = StandardScaler()\n",
    "X_scaled_train = scaler.fit_transform(X_train)\n",
    "X_scaled_test = scaler.transform(X_test)"
   ]
  },
  {
   "cell_type": "markdown",
   "metadata": {},
   "source": [
    "## 4. Hyperparameter tuning with GridSearchCV"
   ]
  },
  {
   "cell_type": "code",
   "metadata": {},
   "source": [
    "# Define hyperparameter grid\n",
    "param_grid = {\n",
    "    \"model__n_neighbors\": [1, 3, 5, 7, 9, 11, 13, 15, 17, 19],\n",
    "    \"model__weights\": [\"uniform\", \"distance\"],\n",
    "    \"model__metric\": [\"minkowski\", \"manhattan\", \"euclidean\"],\n",
    "    \"model__p\": [1, 2]\n",
    "}\n",
    "\n",
    "# Define cross-validation strategy\n",
    "rskf = RepeatedStratifiedKFold(n_splits=5, n_repeats=5, random_state=42)\n",
    "\n",
    "# Create KNN pipeline\n",
    "pipe_knn = Pipeline([\n",
    "    (\"scaler\", StandardScaler()),\n",
    "    (\"model\", KNeighborsClassifier())\n",
    "])\n",
    "\n",
    "# Initialize GridSearchCV\n",
    "grid_search = GridSearchCV(\n",
    "    estimator=pipe_knn,\n",
    "    param_grid=param_grid,\n",
    "    scoring=\"accuracy\",\n",
    "    cv=rskf,\n",
    "    verbose=1,\n",
    "    n_jobs=-1\n",
    ")\n",
    "\n",
    "# Train the model\n",
    "grid_search.fit(X_train, y_train)\n",
    "\n",
    "# Display best parameters and CV score\n",
    "print(\"Best hyperparameters:\", grid_search.best_params_)\n",
    "print(\"Best CV accuracy:\", round(grid_search.best_score_, 4))"
   ]
  },
  {
   "cell_type": "markdown",
   "metadata": {},
   "source": [
    "## 5. Evaluate on test set"
   ]
  },
  {
   "cell_type": "code",
   "metadata": {},
   "source": [
    "best_model = grid_search.best_estimator_\n",
    "y_pred = best_model.predict(X_test)\n",
    "\n",
    "print(\"Test Accuracy:\", round(accuracy_score(y_test, y_pred), 4))\n",
    "print(\"F1 Score:\", round(f1_score(y_test, y_pred), 4))\n",
    "print(\"ROC AUC Score:\", round(roc_auc_score(y_test, y_pred), 4))\n",
    "\n",
    "print(\"\\nConfusion Matrix:\")\n",
    "print(confusion_matrix(y_test, y_pred))\n",
    "\n",
    "print(\"\\nClassification Report:\")\n",
    "print(classification_report(y_test, y_pred))"
   ]
  },
  {
   "cell_type": "markdown",
   "metadata": {},
   "source": [
    "## 6. Cross-validation on training data"
   ]
  },
  {
   "cell_type": "code",
   "metadata": {},
   "source": [
    "cv_score = cross_val_score(pipe_knn, X_train, y_train, cv=rskf)\n",
    "print(\"Cross-validation scores (training data):\")\n",
    "print(np.round(cv_score, 2))\n",
    "print(\"Mean CV score:\", round(np.mean(cv_score), 3))\n",
    "print(\"Std CV score:\", round(np.std(cv_score), 3))"
   ]
  },
  {
   "cell_type": "markdown",
   "metadata": {},
   "source": [
    "## 7. Optional: ROC Curve visualization"
   ]
  },
  {
   "cell_type": "code",
   "metadata": {},
   "source": [
    "fpr, tpr, thresholds = roc_curve(y_test, y_pred)\n",
    "roc_auc = auc(fpr, tpr)\n",
    "\n",
    "plt.figure(figsize=(8,6))\n",
    "plt.plot(fpr, tpr, color='blue', lw=2, label='ROC curve (area = %0.2f)' % roc_auc)\n",
    "plt.plot([0,1], [0,1], color='gray', lw=1, linestyle='--')\n",
    "plt.xlabel('False Positive Rate')\n",
    "plt.ylabel('True Positive Rate')\n",
    "plt.title('ROC Curve for KNN Classifier')\n",
    "plt.legend(loc='lower right')\n",
    "plt.show()"
   ]
  }
 ],
 "metadata": {
  "kernelspec": {
   "display_name": "Python 3",
   "language": "python",
   "name": "python3"
  },
  "language_info": {
   "name": "python",
   "version": "3.10"
  }
 },
 "nbformat": 4,
 "nbformat_minor": 5
}
